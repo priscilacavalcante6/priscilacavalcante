{
 "cells": [
  {
   "cell_type": "code",
   "execution_count": 1,
   "id": "58f5ee6c",
   "metadata": {},
   "outputs": [
    {
     "name": "stdout",
     "output_type": "stream",
     "text": [
      "[]\n"
     ]
    }
   ],
   "source": [
    "# importando bibliotecas\n",
    "import requests\n",
    "from bs4 import BeautifulSoup\n",
    "import operator\n",
    "from collections import Counter\n",
    "\n",
    "\n",
    "# funcao start wordlist(obtendo o conteudo da pagina)\n",
    "def start(url):\n",
    "    wordlist = []\n",
    "    word_count = {}\n",
    "    source_code = requests.get(url).text\n",
    "    soup = BeautifulSoup(source_code, 'html.parser')\n",
    "\n",
    "    # Procurar por tags com a classe 'entry-content'\n",
    "    # essa parte do código percorre todos os elementos <div> com a classe 'entry-content', extrai o texto desses elementos, transforma o texto em minúsculas e divide-o em uma lista de palavras.\n",
    "    for each_text in soup.findAll('div', {'class': 'entry-content'}):\n",
    "        content = each_text.text\n",
    "        words = content.lower().split()\n",
    "\n",
    "        for each_word in words:\n",
    "            wordlist.append(each_word)\n",
    "\n",
    "    clean_wordlist(wordlist, word_count)\n",
    "\n",
    "\n",
    "def clean_wordlist(wordlist, word_count):\n",
    "    clean_list = []\n",
    "    symbols = '[email protected]'  # $%^&*()_-+={[}]|;:\"<>?/.,'\n",
    "\n",
    "    for word in wordlist:\n",
    "        for symbol in symbols:\n",
    "            word = word.replace(symbol, '')\n",
    "\n",
    "        if word:\n",
    "            if word in word_count:\n",
    "                word_count[word] += 1\n",
    "            else:\n",
    "                word_count[word] = 1\n",
    "\n",
    "    sorted_word_count = sorted(word_count.items(), key=operator.itemgetter(1))\n",
    "    for key, value in sorted_word_count:\n",
    "        print(\"%s: %s\" % (key, value))\n",
    "\n",
    "    c = Counter(word_count)\n",
    "    top = c.most_common(10)\n",
    "    print(top)\n",
    "\n",
    "\n",
    "if __name__ == '__main__':\n",
    "    start(\"http://tutorialspoint.dev/slugresolver/programming-language-choose?\")"
   ]
  },
  {
   "cell_type": "code",
   "execution_count": null,
   "id": "74bdb517",
   "metadata": {},
   "outputs": [],
   "source": []
  }
 ],
 "metadata": {
  "kernelspec": {
   "display_name": "Python 3 (ipykernel)",
   "language": "python",
   "name": "python3"
  },
  "language_info": {
   "codemirror_mode": {
    "name": "ipython",
    "version": 3
   },
   "file_extension": ".py",
   "mimetype": "text/x-python",
   "name": "python",
   "nbconvert_exporter": "python",
   "pygments_lexer": "ipython3",
   "version": "3.10.9"
  }
 },
 "nbformat": 4,
 "nbformat_minor": 5
}
